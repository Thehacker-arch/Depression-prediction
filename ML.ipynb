{
  "nbformat": 4,
  "nbformat_minor": 0,
  "metadata": {
    "colab": {
      "provenance": []
    },
    "kernelspec": {
      "name": "python3",
      "display_name": "Python 3"
    },
    "language_info": {
      "name": "python"
    }
  },
  "cells": [
    {
      "cell_type": "markdown",
      "source": [
        "# Import Modules"
      ],
      "metadata": {
        "id": "4o9tg_EcquvU"
      }
    },
    {
      "cell_type": "code",
      "execution_count": 18,
      "metadata": {
        "id": "ixcGlHtu7jnj"
      },
      "outputs": [],
      "source": [
        "import pandas as pd\n",
        "from sklearn.model_selection import train_test_split\n",
        "from sklearn.ensemble import RandomForestClassifier\n",
        "from sklearn.preprocessing import LabelEncoder, StandardScaler\n",
        "from sklearn.metrics import accuracy_score\n",
        "import warnings"
      ]
    },
    {
      "cell_type": "markdown",
      "source": [
        "# Load Dataset and split it into training and testing"
      ],
      "metadata": {
        "id": "C5lu4oayq2xa"
      }
    },
    {
      "cell_type": "code",
      "source": [
        "pd.set_option('future.no_silent_downcasting', True)\n",
        "warnings.filterwarnings('ignore')\n",
        "\n",
        "data = pd.read_csv('depression.csv')\n",
        "\n",
        "encoder = LabelEncoder()\n",
        "data['Gender'] = encoder.fit_transform(data['Gender'])\n",
        "data['Have you ever had suicidal thoughts ?'] = encoder.fit_transform(data['Have you ever had suicidal thoughts ?'])\n",
        "data['Family History of Mental Illness'] = encoder.fit_transform(data['Family History of Mental Illness'])\n",
        "\n",
        "data['Dietary Habits'].replace(\n",
        "    {'Moderate': 1,\n",
        "     'Healthy': 2,\n",
        "     'Unhealthy': 3},\n",
        "      inplace=True\n",
        "    )\n",
        "\n",
        "data['Sleep Duration'].replace(\n",
        "    {'Less than 5 hours': 0,\n",
        "     '5-6 hours': 1,\n",
        "     '7-8 hours': 2,\n",
        "     'More than 8 hours': 3},\n",
        "      inplace=True\n",
        "    )\n",
        "\n",
        "X = data.drop('Depression', axis=1)\n",
        "y = data['Depression']\n",
        "\n",
        "X_train, X_test, y_train, y_test = train_test_split(X, y, test_size=0.2, random_state=42)\n",
        "\n",
        "model = RandomForestClassifier()\n",
        "model.fit(X_train, y_train)\n",
        "\n",
        "y_pred = model.predict(X_test)\n",
        "\n",
        "accuracy = accuracy_score(y_test, y_pred)\n",
        "print(f\"Accuracy: {accuracy * 100:.2f}%\")"
      ],
      "metadata": {
        "colab": {
          "base_uri": "https://localhost:8080/"
        },
        "id": "nkA9WEDfqsxE",
        "outputId": "62ed2719-1aa5-4910-8b26-5036ad11d996"
      },
      "execution_count": 70,
      "outputs": [
        {
          "output_type": "stream",
          "name": "stdout",
          "text": [
            "Accuracy: 95.05%\n"
          ]
        }
      ]
    },
    {
      "cell_type": "markdown",
      "source": [
        "# Test the model to predict if a student will have depression or not"
      ],
      "metadata": {
        "id": "vmhn4LIR0wvE"
      }
    },
    {
      "cell_type": "code",
      "source": [
        "\"\"\"\n",
        "Scale to Enter Data\n",
        "  1. Academic Pressure: 1-5\n",
        "  2. Study Satisfaction: 1-5\n",
        "\n",
        "  3. Sleep Duration: {\n",
        "     'Less than 5 hours': 0,\n",
        "     '5-6 hours': 1,\n",
        "     '7-8 hours': 2,\n",
        "     'More than 8 hours': 3\n",
        "     }\n",
        "\n",
        "  4. Dietary Habits: {\n",
        "     'Moderate': 1,\n",
        "     'Healthy': 2,\n",
        "     'Unhealthy': 3\n",
        "     }\n",
        "\n",
        "  5. Have you ever had suicidal thoughts ? {'Yes': 1, 'No': 0}\n",
        "\n",
        "  6. Study Hours: Any number (usually 0-12)\n",
        "  7. Financial Stress: 1-5\n",
        "\n",
        "  8. Family History of Mental Illness: {'Yes': 1, 'No': 0}\n",
        "  9. Gender: {'Male': 1, 'Female': 0}\n",
        "\"\"\"\n",
        "\n",
        "person = pd.DataFrame({\n",
        "    'Gender': ['1'],\n",
        "    'Age': ['17'],\n",
        "    'Academic Pressure': ['3'],\n",
        "    'Study Satisfaction': ['1'],\n",
        "    'Sleep Duration': ['2'],\n",
        "    'Dietary Habits': ['1'],\n",
        "    'Have you ever had suicidal thoughts ?': ['1'],\n",
        "    'Study Hours': ['3'],\n",
        "    'Financial Stress': ['1'],\n",
        "    'Family History of Mental Illness': ['0']\n",
        "}, index=[0])\n",
        "\n",
        "\n",
        "prediction = model.predict(person)\n",
        "probability = model.predict_proba(person)\n",
        "\n",
        "if 0.50 <= probability[0][1] <= 0.79:\n",
        "    print(\"The person is likely to have mild depression.\\n\")\n",
        "elif probability[0][1] > 0.79:\n",
        "    print(\"The person is likely to have major depression.\\n\")\n",
        "else:\n",
        "    print(\"The person is unlikely to have depression.\\n\")\n",
        "\n",
        "print(f\"Probability of depression: {probability[0][1]*100:.2f}%\")"
      ],
      "metadata": {
        "colab": {
          "base_uri": "https://localhost:8080/"
        },
        "id": "ALgkHQFP0wbB",
        "outputId": "9c165a80-4d1c-4902-c7ad-24d2e930aa6b"
      },
      "execution_count": 110,
      "outputs": [
        {
          "output_type": "stream",
          "name": "stdout",
          "text": [
            "The person is likely to have mild depression.\n",
            "\n",
            "Probability of depression: 79.00%\n"
          ]
        }
      ]
    }
  ]
}